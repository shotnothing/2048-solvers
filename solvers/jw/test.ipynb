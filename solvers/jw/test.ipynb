{
 "cells": [
  {
   "cell_type": "code",
   "execution_count": 56,
   "metadata": {},
   "outputs": [
    {
     "name": "stdout",
     "output_type": "stream",
     "text": [
      "The autoreload extension is already loaded. To reload it, use:\n",
      "  %reload_ext autoreload\n"
     ]
    }
   ],
   "source": [
    "%load_ext autoreload\n",
    "%autoreload 1\n",
    "%aimport game\n",
    "\n",
    "import game\n",
    "import time\n",
    "import random\n",
    "\n",
    "game._build_row_tables()"
   ]
  },
  {
   "cell_type": "code",
   "execution_count": 58,
   "metadata": {},
   "outputs": [],
   "source": [
    "max_iters = 1000000\n",
    "num_games = 100\n",
    "\n",
    "game_results = []\n",
    "\n",
    "for game_index in range(num_games):\n",
    "    start_board = [\n",
    "        [0, 0, 0, 0],\n",
    "        [0, 0, 0, 0],\n",
    "        [0, 0, 0, 0],\n",
    "        [0, 0, 0, 0],\n",
    "    ]\n",
    "    bs = game.to_bitset(start_board)\n",
    "\n",
    "    start_iter = time.time()\n",
    "\n",
    "    for i in range(max_iters):\n",
    "        bs = game.generate_tile(bs)\n",
    "        action_space = game.get_action_space(bs)\n",
    "        if action_space:\n",
    "            bs = random.choice(action_space)(bs)\n",
    "        else:\n",
    "            break\n",
    "        \n",
    "    time_taken = time.time() - start_iter\n",
    "    game_results.append({\n",
    "        'iters': i,\n",
    "        'max_tile': game.get_max_tile(bs),\n",
    "        'time': time_taken,\n",
    "    })\n"
   ]
  },
  {
   "cell_type": "code",
   "execution_count": 60,
   "metadata": {},
   "outputs": [
    {
     "name": "stdout",
     "output_type": "stream",
     "text": [
      "Games per second: 412.6854686995742\n",
      "Average iterations: 116.16\n",
      "Average max tile: 104.32\n"
     ]
    }
   ],
   "source": [
    "print(f'Games per second: {num_games / sum(result[\"time\"] for result in game_results)}')\n",
    "print(f'Average iterations: {sum(result[\"iters\"] for result in game_results) / len(game_results)}')\n",
    "print(f'Average max tile: {sum(result[\"max_tile\"] for result in game_results) / len(game_results)}')"
   ]
  }
 ],
 "metadata": {
  "kernelspec": {
   "display_name": "Python 3",
   "language": "python",
   "name": "python3"
  },
  "language_info": {
   "codemirror_mode": {
    "name": "ipython",
    "version": 3
   },
   "file_extension": ".py",
   "mimetype": "text/x-python",
   "name": "python",
   "nbconvert_exporter": "python",
   "pygments_lexer": "ipython3",
   "version": "3.13.3"
  }
 },
 "nbformat": 4,
 "nbformat_minor": 2
}
