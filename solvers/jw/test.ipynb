{
 "cells": [
  {
   "cell_type": "code",
   "execution_count": 6,
   "metadata": {},
   "outputs": [],
   "source": []
  },
  {
   "cell_type": "code",
   "execution_count": 12,
   "metadata": {},
   "outputs": [
    {
     "name": "stdout",
     "output_type": "stream",
     "text": [
      "1.276001214981079 seconds for 100000 iterations\n",
      "Iterations per second: 78308.42170864284\n",
      "After down:\n",
      "      .       .       .       .\n",
      "      .       .       .       .\n",
      "      .       .       .       .\n",
      "      .       .       .  131072\n",
      "Bitset: 642241841670271749062656 \n",
      "\n"
     ]
    }
   ],
   "source": [
    "import game\n",
    "import time\n",
    "game._build_row_tables()\n",
    "\n",
    "start_board = [\n",
    "    [0, 0, 0, 0],\n",
    "    [0, 0, 0, 0],\n",
    "    [0, 0, 16, 0],\n",
    "    [0, 0, 16, 0],\n",
    "]\n",
    "bs = game.to_bitset(start_board)\n",
    "\n",
    "start = time.time()\n",
    "iters = 100000\n",
    "for name, fn in [(\"left\", game.left), (\"right\", game.right), (\"up\", game.up), (\"down\", game.down)] * iters:\n",
    "    bs = fn(bs)\n",
    "print(f\"{time.time() - start} seconds for {iters} iterations\")\n",
    "print(f\"Iterations per second: {iters / (time.time() - start)}\")\n",
    "    \n",
    "print(f\"After {name}:\")\n",
    "game.print_board(game.to_board(bs))\n",
    "print(\"Bitset:\", bs, \"\\n\")\n"
   ]
  },
  {
   "cell_type": "code",
   "execution_count": 14,
   "metadata": {},
   "outputs": [
    {
     "data": {
      "text/plain": [
       "1048576"
      ]
     },
     "execution_count": 14,
     "metadata": {},
     "output_type": "execute_result"
    }
   ],
   "source": [
    "len(game._ROW_LEFT_TABLE)"
   ]
  }
 ],
 "metadata": {
  "kernelspec": {
   "display_name": "base",
   "language": "python",
   "name": "python3"
  },
  "language_info": {
   "codemirror_mode": {
    "name": "ipython",
    "version": 3
   },
   "file_extension": ".py",
   "mimetype": "text/x-python",
   "name": "python",
   "nbconvert_exporter": "python",
   "pygments_lexer": "ipython3",
   "version": "3.12.4"
  }
 },
 "nbformat": 4,
 "nbformat_minor": 2
}
