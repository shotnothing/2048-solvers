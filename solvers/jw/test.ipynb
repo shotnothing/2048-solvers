{
 "cells": [
  {
   "cell_type": "code",
   "execution_count": 192,
   "metadata": {},
   "outputs": [],
   "source": [
    "import game"
   ]
  },
  {
   "cell_type": "code",
   "execution_count": 194,
   "metadata": {},
   "outputs": [
    {
     "name": "stdout",
     "output_type": "stream",
     "text": [
      "Start:\n",
      "     .      .      .      .\n",
      "     .      .      .      .\n",
      "     .      .  65536      .\n",
      "     .      .  65536      .\n",
      "Bitset: 18889483945877090336768 \n",
      "\n",
      "After left:\n",
      "     .      .      .      .\n",
      "     .      .      .      .\n",
      " 65536      .      .      .\n",
      " 65536      .      .      .\n",
      "Bitset: 18446761665895596032 \n",
      "\n",
      "After right:\n",
      "     .      .      .      .\n",
      "     .      .      .      .\n",
      "     .      .      .  65536\n",
      "     .      .      .  65536\n",
      "Bitset: 604463486268066890776576 \n",
      "\n",
      "After up:\n",
      "      .       .       .  131072\n",
      "      .       .       .       .\n",
      "      .       .       .       .\n",
      "      .       .       .       .\n",
      "Bitset: 557056 \n",
      "\n",
      "After down:\n",
      "      .       .       .       .\n",
      "      .       .       .       .\n",
      "      .       .       .       .\n",
      "      .       .       .  131072\n",
      "Bitset: 642241841670271749062656 \n",
      "\n"
     ]
    }
   ],
   "source": [
    "game._build_row_tables()\n",
    "\n",
    "start_board = [\n",
    "    [0, 0, 0, 0],\n",
    "    [0, 0, 0, 0],\n",
    "    [0, 0, 16, 0],\n",
    "    [0, 0, 16, 0],\n",
    "]\n",
    "bs = game.to_bitset(start_board)\n",
    "\n",
    "game.print_board(start_board, label=\"Start:\")\n",
    "print(\"Bitset:\", bs, \"\\n\")\n",
    "\n",
    "for name, fn in (\"left\", game.left), (\"right\", game.right), (\"up\", game.up), (\"down\", game.down):\n",
    "    bs = fn(bs)\n",
    "    print(f\"After {name}:\")\n",
    "    game.print_board(game.to_board(bs))\n",
    "    print(\"Bitset:\", bs, \"\\n\")\n"
   ]
  }
 ],
 "metadata": {
  "kernelspec": {
   "display_name": "base",
   "language": "python",
   "name": "python3"
  },
  "language_info": {
   "codemirror_mode": {
    "name": "ipython",
    "version": 3
   },
   "file_extension": ".py",
   "mimetype": "text/x-python",
   "name": "python",
   "nbconvert_exporter": "python",
   "pygments_lexer": "ipython3",
   "version": "3.12.4"
  }
 },
 "nbformat": 4,
 "nbformat_minor": 2
}
