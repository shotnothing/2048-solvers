{
 "cells": [
  {
   "cell_type": "code",
   "execution_count": 14,
   "metadata": {},
   "outputs": [
    {
     "name": "stdout",
     "output_type": "stream",
     "text": [
      "The autoreload extension is already loaded. To reload it, use:\n",
      "  %reload_ext autoreload\n",
      "sum of left table: 456355388685\n",
      "sum of right table: 567436624548\n"
     ]
    }
   ],
   "source": [
    "%load_ext autoreload\n",
    "%autoreload 1\n",
    "%aimport game\n",
    "\n",
    "import game\n",
    "import random\n",
    "import time\n",
    "\n",
    "game._build_row_tables()\n",
    "\n",
    "assert sum(game._ROW_LEFT_TABLE) > 0\n",
    "assert sum(game._ROW_RIGHT_TABLE) > 0\n"
   ]
  },
  {
   "cell_type": "code",
   "execution_count": 29,
   "metadata": {},
   "outputs": [],
   "source": [
    "def noskill(bs, action_space):\n",
    "    return random.choice(action_space)(bs)\n",
    "\n",
    "def naive_minimize_empty_tiles(bs, action_space):\n",
    "    best_action, best_score = None, 0\n",
    "    for action in action_space:\n",
    "        new_bs = action(bs)\n",
    "        num_empty_tiles = len(game.get_empty_tiles(new_bs))\n",
    "        if num_empty_tiles > best_score:\n",
    "            best_action, best_score = action, num_empty_tiles\n",
    "    return best_action(bs)"
   ]
  },
  {
   "cell_type": "code",
   "execution_count": null,
   "metadata": {},
   "outputs": [
    {
     "ename": "KeyboardInterrupt",
     "evalue": "",
     "output_type": "error",
     "traceback": [
      "\u001b[1;31m---------------------------------------------------------------------------\u001b[0m",
      "\u001b[1;31mKeyboardInterrupt\u001b[0m                         Traceback (most recent call last)",
      "Cell \u001b[1;32mIn[30], line 3\u001b[0m\n\u001b[0;32m      1\u001b[0m g \u001b[38;5;241m=\u001b[39m game\u001b[38;5;241m.\u001b[39mGame()\n\u001b[1;32m----> 3\u001b[0m results, ai_name \u001b[38;5;241m=\u001b[39m \u001b[43mg\u001b[49m\u001b[38;5;241;43m.\u001b[39;49m\u001b[43mrun_game\u001b[49m\u001b[43m(\u001b[49m\u001b[43mnoskill\u001b[49m\u001b[43m,\u001b[49m\u001b[43m \u001b[49m\u001b[43mnum_games\u001b[49m\u001b[38;5;241;43m=\u001b[39;49m\u001b[38;5;241;43m1000\u001b[39;49m\u001b[43m)\u001b[49m\n\u001b[0;32m      4\u001b[0m g\u001b[38;5;241m.\u001b[39mprint_results(results, ai_name)\n\u001b[0;32m      5\u001b[0m g\u001b[38;5;241m.\u001b[39mplot_results(results, ai_name)\n",
      "File \u001b[1;32mc:\\Users\\JW\\Desktop\\2048-solvers\\solvers\\jw\\game.py:201\u001b[0m, in \u001b[0;36mGame.run_game\u001b[1;34m(self, ai, max_iters, num_games)\u001b[0m\n\u001b[0;32m    199\u001b[0m \u001b[38;5;28;01mfor\u001b[39;00m i \u001b[38;5;129;01min\u001b[39;00m \u001b[38;5;28mrange\u001b[39m(max_iters):\n\u001b[0;32m    200\u001b[0m     bs \u001b[38;5;241m=\u001b[39m generate_tile(bs)\n\u001b[1;32m--> 201\u001b[0m     action_space \u001b[38;5;241m=\u001b[39m \u001b[43mget_action_space\u001b[49m\u001b[43m(\u001b[49m\u001b[43mbs\u001b[49m\u001b[43m)\u001b[49m\n\u001b[0;32m    202\u001b[0m     \u001b[38;5;28;01mif\u001b[39;00m action_space:\n\u001b[0;32m    203\u001b[0m         bs \u001b[38;5;241m=\u001b[39m ai(bs, action_space)\n",
      "File \u001b[1;32mc:\\Users\\JW\\Desktop\\2048-solvers\\solvers\\jw\\game.py:125\u001b[0m, in \u001b[0;36mget_action_space\u001b[1;34m(bitset)\u001b[0m\n\u001b[0;32m    123\u001b[0m \u001b[38;5;28;01mif\u001b[39;00m right(bitset) \u001b[38;5;241m!=\u001b[39m bitset:\n\u001b[0;32m    124\u001b[0m     out\u001b[38;5;241m.\u001b[39mappend(right)\n\u001b[1;32m--> 125\u001b[0m \u001b[38;5;28;01mif\u001b[39;00m \u001b[43mdown\u001b[49m\u001b[43m(\u001b[49m\u001b[43mbitset\u001b[49m\u001b[43m)\u001b[49m \u001b[38;5;241m!=\u001b[39m bitset:\n\u001b[0;32m    126\u001b[0m     out\u001b[38;5;241m.\u001b[39mappend(down)\n\u001b[0;32m    127\u001b[0m \u001b[38;5;28;01mreturn\u001b[39;00m out\n",
      "File \u001b[1;32mc:\\Users\\JW\\Desktop\\2048-solvers\\solvers\\jw\\game.py:157\u001b[0m, in \u001b[0;36mdown\u001b[1;34m(bitset)\u001b[0m\n\u001b[0;32m    153\u001b[0m \u001b[38;5;28;01mdef\u001b[39;00m \u001b[38;5;21mup\u001b[39m(bitset: \u001b[38;5;28mint\u001b[39m) \u001b[38;5;241m-\u001b[39m\u001b[38;5;241m>\u001b[39m \u001b[38;5;28mint\u001b[39m:\n\u001b[0;32m    154\u001b[0m     \u001b[38;5;28;01mreturn\u001b[39;00m _transpose( left(_transpose(bitset)) )\n\u001b[1;32m--> 157\u001b[0m \u001b[38;5;28;01mdef\u001b[39;00m \u001b[38;5;21mdown\u001b[39m(bitset: \u001b[38;5;28mint\u001b[39m) \u001b[38;5;241m-\u001b[39m\u001b[38;5;241m>\u001b[39m \u001b[38;5;28mint\u001b[39m:\n\u001b[0;32m    158\u001b[0m     \u001b[38;5;28;01mreturn\u001b[39;00m _transpose( right(_transpose(bitset)) )\n\u001b[0;32m    164\u001b[0m \u001b[38;5;28;01mclass\u001b[39;00m \u001b[38;5;21;01mGame\u001b[39;00m:\n",
      "\u001b[1;31mKeyboardInterrupt\u001b[0m: "
     ]
    }
   ],
   "source": [
    "g = game.Game()\n",
    "\n",
    "results, ai_name = g.run_game(noskill, num_games=1000)\n",
    "g.print_results(results, ai_name)\n",
    "g.plot_results(results, ai_name)\n",
    "\n",
    "results, ai_name = g.run_game(naive_minimize_empty_tiles, num_games=1000)\n",
    "g.print_results(results, ai_name)\n",
    "g.plot_results(results, ai_name)"
   ]
  }
 ],
 "metadata": {
  "kernelspec": {
   "display_name": "Python 3",
   "language": "python",
   "name": "python3"
  },
  "language_info": {
   "codemirror_mode": {
    "name": "ipython",
    "version": 3
   },
   "file_extension": ".py",
   "mimetype": "text/x-python",
   "name": "python",
   "nbconvert_exporter": "python",
   "pygments_lexer": "ipython3",
   "version": "3.13.3"
  }
 },
 "nbformat": 4,
 "nbformat_minor": 2
}
