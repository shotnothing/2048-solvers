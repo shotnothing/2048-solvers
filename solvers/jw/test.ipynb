{
 "cells": [
  {
   "cell_type": "code",
   "execution_count": 32,
   "metadata": {},
   "outputs": [
    {
     "name": "stdout",
     "output_type": "stream",
     "text": [
      "The autoreload extension is already loaded. To reload it, use:\n",
      "  %reload_ext autoreload\n"
     ]
    }
   ],
   "source": [
    "%load_ext autoreload\n",
    "%autoreload 1\n",
    "%aimport game\n",
    "\n",
    "import game\n",
    "import time\n",
    "import random\n",
    "\n",
    "game._build_row_tables()"
   ]
  },
  {
   "cell_type": "code",
   "execution_count": 33,
   "metadata": {},
   "outputs": [],
   "source": [
    "def noskill(bs, action_space):\n",
    "    return random.choice(action_space)(bs)\n",
    "\n",
    "def naive_minimize_empty_tiles(bs, action_space):\n",
    "    best_action, best_score = None, 0\n",
    "    for action in action_space:\n",
    "        new_bs = action(bs)\n",
    "        num_empty_tiles = len(game.get_empty_tiles(new_bs))\n",
    "        if num_empty_tiles > best_score:\n",
    "            best_action, best_score = action, num_empty_tiles\n",
    "    return best_action(bs)\n"
   ]
  },
  {
   "cell_type": "code",
   "execution_count": 34,
   "metadata": {},
   "outputs": [],
   "source": [
    "class Game:\n",
    "    def __init__(self, board = None):\n",
    "        if board is None:\n",
    "            self.start_board = [\n",
    "                [0, 0, 0, 0],\n",
    "                [0, 0, 0, 0],\n",
    "                [0, 0, 0, 0],\n",
    "                [0, 0, 0, 0],\n",
    "            ]\n",
    "        \n",
    "        self.start_bitset = game.to_bitset(self.start_board)\n",
    "\n",
    "    def watch_game(self):\n",
    "        bs = self.start_bitset\n",
    "\n",
    "        for i in range(100000):\n",
    "            bs = game.generate_tile(bs)\n",
    "            action_space = game.get_action_space(bs)\n",
    "            game.print_board(game.to_board(bs), f\"Turn {i}: Random tile\")\n",
    "            if action_space:\n",
    "                bs = noskill(bs, action_space)\n",
    "            else:\n",
    "                break\n",
    "            game.print_board(game.to_board(bs), f\"Turn {i}: Taken action\")\n",
    "            \n",
    "    def run_game(self, ai, max_iters=1000000, num_games=10000):\n",
    "        game_results = []\n",
    "\n",
    "        for game_index in range(num_games):\n",
    "            bs = self.start_bitset\n",
    "\n",
    "            start_iter = time.time()\n",
    "\n",
    "            for i in range(max_iters):\n",
    "                bs = game.generate_tile(bs)\n",
    "                action_space = game.get_action_space(bs)\n",
    "                if action_space:\n",
    "                    bs = ai(bs, action_space)\n",
    "                else:\n",
    "                    break\n",
    "                \n",
    "            time_taken = time.time() - start_iter\n",
    "            game_results.append({\n",
    "                'num_turns_taken': i,\n",
    "                'max_tile_reached': game.get_max_tile(bs),\n",
    "                'time_taken': time_taken,\n",
    "            })\n",
    "\n",
    "        return game_results, ai.__name__\n",
    "        \n",
    "    def print_results(self, game_results, ai_name):\n",
    "        print(f'Test: {ai_name}')\n",
    "\n",
    "        num_games = len(game_results)\n",
    "        print()\n",
    "        print(f'Number of games played: {num_games}')\n",
    "        print(f'Total time taken: {sum(result[\"time_taken\"] for result in game_results)} seconds')\n",
    "        print(f'Games per second: {num_games / sum(result[\"time_taken\"] for result in game_results)}')\n",
    "        print(f'Turns per second: {sum(result[\"num_turns_taken\"] for result in game_results) / sum(result[\"time_taken\"] for result in game_results)}')\n",
    "\n",
    "        print()\n",
    "        print(f'Max number of turns before game over: {max(result[\"num_turns_taken\"] for result in game_results)}')\n",
    "        print(f'Min number of turns before game over: {min(result[\"num_turns_taken\"] for result in game_results)}')\n",
    "        print(f'Average number of turns before game over: {sum(result[\"num_turns_taken\"] for result in game_results) / len(game_results)}')\n",
    "\n",
    "        print()\n",
    "        print(f'Max tile reached: {max(result[\"max_tile_reached\"] for result in game_results)}')\n",
    "        print(f'Min tile reached: {min(result[\"max_tile_reached\"] for result in game_results)}')\n",
    "        print(f'Average max tile reached: {sum(result[\"max_tile_reached\"] for result in game_results) / len(game_results)}')\n",
    "\n",
    "    def plot_results(self, game_results):\n",
    "        import pandas as pd\n",
    "        import matplotlib.pyplot as plt\n",
    "\n",
    "        df = pd.DataFrame(game_results)\n",
    "\n",
    "        plt.hist(df['max_tile_reached'], bins=100)\n",
    "        plt.title('Max tile reached')\n",
    "        plt.show()\n",
    "\n",
    "        plt.hist(df['num_turns_taken'], bins=100)\n",
    "        plt.title('Number of turns before game over')\n",
    "        plt.show()"
   ]
  },
  {
   "cell_type": "code",
   "execution_count": null,
   "metadata": {},
   "outputs": [],
   "source": [
    "g = Game()\n",
    "results, ai_name = g.run_game(noskill)\n",
    "g.print_results(results, ai_name)\n",
    "g.plot_results(results)"
   ]
  }
 ],
 "metadata": {
  "kernelspec": {
   "display_name": "Python 3",
   "language": "python",
   "name": "python3"
  },
  "language_info": {
   "codemirror_mode": {
    "name": "ipython",
    "version": 3
   },
   "file_extension": ".py",
   "mimetype": "text/x-python",
   "name": "python",
   "nbconvert_exporter": "python",
   "pygments_lexer": "ipython3",
   "version": "3.13.3"
  }
 },
 "nbformat": 4,
 "nbformat_minor": 2
}
