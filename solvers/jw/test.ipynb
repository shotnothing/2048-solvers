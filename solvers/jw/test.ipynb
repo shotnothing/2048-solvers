{
 "cells": [
  {
   "cell_type": "code",
   "execution_count": null,
   "metadata": {},
   "outputs": [
    {
     "name": "stdout",
     "output_type": "stream",
     "text": [
      "The autoreload extension is already loaded. To reload it, use:\n",
      "  %reload_ext autoreload\n"
     ]
    }
   ],
   "source": [
    "%load_ext autoreload\n",
    "%autoreload 1\n",
    "%aimport game\n",
    "\n",
    "import game\n",
    "import random\n",
    "import time\n",
    "\n",
    "game._build_row_tables()"
   ]
  },
  {
   "cell_type": "code",
   "execution_count": 159,
   "metadata": {},
   "outputs": [],
   "source": [
    "def noskill(bs, action_space):\n",
    "    return random.choice(action_space)(bs)\n",
    "\n",
    "def naive_minimize_empty_tiles(bs, action_space):\n",
    "    best_action, best_score = None, 0\n",
    "    for action in action_space:\n",
    "        new_bs = action(bs)\n",
    "        num_empty_tiles = len(game.get_empty_tiles(new_bs))\n",
    "        if num_empty_tiles > best_score:\n",
    "            best_action, best_score = action, num_empty_tiles\n",
    "    return best_action(bs)"
   ]
  },
  {
   "cell_type": "code",
   "execution_count": 165,
   "metadata": {},
   "outputs": [
    {
     "ename": "NameError",
     "evalue": "name 'time' is not defined",
     "output_type": "error",
     "traceback": [
      "\u001b[31m---------------------------------------------------------------------------\u001b[39m",
      "\u001b[31mNameError\u001b[39m                                 Traceback (most recent call last)",
      "\u001b[36mCell\u001b[39m\u001b[36m \u001b[39m\u001b[32mIn[165]\u001b[39m\u001b[32m, line 3\u001b[39m\n\u001b[32m      1\u001b[39m g = game.Game()\n\u001b[32m----> \u001b[39m\u001b[32m3\u001b[39m results, ai_name = \u001b[43mg\u001b[49m\u001b[43m.\u001b[49m\u001b[43mrun_game\u001b[49m\u001b[43m(\u001b[49m\u001b[43mnoskill\u001b[49m\u001b[43m,\u001b[49m\u001b[43m \u001b[49m\u001b[43mnum_games\u001b[49m\u001b[43m=\u001b[49m\u001b[32;43m1000\u001b[39;49m\u001b[43m)\u001b[49m\n\u001b[32m      4\u001b[39m g.print_results(results, ai_name)\n\u001b[32m      5\u001b[39m g.plot_results(results, ai_name)\n",
      "\u001b[36mFile \u001b[39m\u001b[32m<string>:6\u001b[39m, in \u001b[36mrun_game\u001b[39m\u001b[34m(self, ai, max_iters, num_games)\u001b[39m\n",
      "\u001b[31mNameError\u001b[39m: name 'time' is not defined"
     ]
    }
   ],
   "source": [
    "g = game.Game()\n",
    "\n",
    "results, ai_name = g.run_game(noskill, num_games=1000)\n",
    "g.print_results(results, ai_name)\n",
    "g.plot_results(results, ai_name)\n",
    "\n",
    "results, ai_name = g.run_game(naive_minimize_empty_tiles, num_games=1000)\n",
    "g.print_results(results, ai_name)\n",
    "g.plot_results(results, ai_name)"
   ]
  }
 ],
 "metadata": {
  "kernelspec": {
   "display_name": "Python 3",
   "language": "python",
   "name": "python3"
  },
  "language_info": {
   "codemirror_mode": {
    "name": "ipython",
    "version": 3
   },
   "file_extension": ".py",
   "mimetype": "text/x-python",
   "name": "python",
   "nbconvert_exporter": "python",
   "pygments_lexer": "ipython3",
   "version": "3.13.3"
  }
 },
 "nbformat": 4,
 "nbformat_minor": 2
}
